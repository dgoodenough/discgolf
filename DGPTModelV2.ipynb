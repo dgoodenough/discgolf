{
 "cells": [
  {
   "cell_type": "markdown",
   "metadata": {},
   "source": [
    "This model is meant to forecast the outcome of the standings here: https://udisclive.com/players?t=standings&z=dgpt Logic for how to attribute points is here: https://udisc.com/blog/post/how-disc-golf-pro-tour-points-work-why-they-matter?fbclid=IwAR1VwYCkl7DCkgc93G5qujSDxCSWqg5HMWLv7dVhu_c4GXchW_P7fJO7MSo\n",
    "\n",
    "To do so, I need to:\n",
    "\n",
    "load in events, and details about those events\n",
    "load in the players playing in those events, and details about their skill levels\n",
    "generate N runs of a model that forecasts each player's results N times at each event they are entered in\n",
    "use the generated results to assign points to the players\n",
    "sum the points based on the DGPT rules\n",
    "aggregate the ranks for each player at the end of the year (for example, see if Paige Pierce has a 90% chance of 1st place, 5% chance of 2nd place, etc.)\n",
    "Things that inspired this / what the output should look like\n",
    "\n",
    "538 soccer: https://projects.fivethirtyeight.com/soccer-predictions/champions-league/\n",
    "my own attempt at this same thing but in google sheets: https://docs.google.com/spreadsheets/d/19IwKCt5DI77koId916DawdJd1mNM7RQi3Nzlpmsa23Q/edit#gid=0 (see ForecastFinal tab. This doc does ALL of the logic i want in here, but it's limited to N=50 runs due to how long it takes the formulas to update)"
   ]
  },
  {
   "cell_type": "code",
   "execution_count": 1,
   "metadata": {},
   "outputs": [],
   "source": [
    "###Load Packages\n",
    "import pandas as pd\n",
    "import numpy as np\n",
    "\n",
    "#Load Raw Event, Player, and Point Logic Data\n",
    "Events = pd.read_csv('AllProjectedEvents.csv')\n",
    "EventPlayers = pd.read_csv('AllProjectedEventPlayers08092021DGPTNTOnlyNoDGPTAfterIdlewild.csv')\n",
    "PointsLogic = pd.read_csv('PointsLogicAllTours.csv')\n",
    "pd.set_option('display.max_rows', 200)\n",
    "pd.set_option('display.min_rows', 200)\n",
    "\n",
    "\n",
    "#Prep Raw Data\n",
    "Events['EventDate'] = pd.to_datetime(Events['EventDate'])\n",
    "Events['EventID'] = Events.EventID.fillna(1)\n",
    "Events['EventID'] = Events.EventID.astype(int)\n",
    "EventPlayers['Rating'] = pd.to_numeric(EventPlayers['Rating'])\n",
    "EventPlayers['PDGANumber'] = EventPlayers.PDGANumber.astype(int)\n",
    "\n",
    "#Declare Variables\n",
    "RatingPointsPerStroke = 6\n",
    "NumberOfModelRuns = 1000\n",
    "RoundStandardDeviation = 6.82"
   ]
  },
  {
   "cell_type": "code",
   "execution_count": 2,
   "metadata": {},
   "outputs": [],
   "source": [
    "#Create a Mean Regression so that Events further out have more uncertainty\n",
    "EventMeanRegression = Events[['EventID','EventDate']].drop_duplicates(subset=['EventID','EventDate'])\n",
    "EventMeanRegression['Today'] = pd.to_datetime(\"now\")\n",
    "EventMeanRegression['TimeToEvent'] = EventMeanRegression['EventDate'] - EventMeanRegression['Today']\n",
    "EventMeanRegression['TimeToEventNumber'] = pd.to_numeric(EventMeanRegression['TimeToEvent'])/(1000000000*60*60*24)\n",
    "EventMeanRegression['EventMeanRegressionValue'] = np.log10(np.absolute(EventMeanRegression['TimeToEventNumber']))\n",
    "###Placeholder - if TimeToEvent Negative, then EventMeanRegressionValue = 0\n",
    "###Placeholder - create a boolean to check if events have passed\n",
    "EventMeanRegression = EventMeanRegression[['EventID','EventDate','EventMeanRegressionValue']].sort_values(by=['EventDate'])\n",
    "###EventMeanRegression"
   ]
  },
  {
   "cell_type": "code",
   "execution_count": 3,
   "metadata": {},
   "outputs": [],
   "source": [
    "###Calculate Average Rating for Each Event and Division\n",
    "EventAverageRating = EventPlayers[['EventID','Division','Rating']]\n",
    "EventDivisionAverageRatingValue = EventAverageRating.groupby(['EventID','Division'])['Rating'].mean()\n",
    "EventAverageRating = EventPlayers[['EventID','Division']]\n",
    "EventAverageRating = pd.merge(EventAverageRating,EventDivisionAverageRatingValue,on = ['EventID','Division'],how='left')\n",
    "EventAverageRating = EventAverageRating.drop_duplicates()\n",
    "EventAverageRating = EventAverageRating.rename(columns={\"Rating\":\"EventDivisionAverageRatingValue\"}).sort_values(by=['EventID','Division'])\n",
    "###EventAverageRating"
   ]
  },
  {
   "cell_type": "code",
   "execution_count": 4,
   "metadata": {},
   "outputs": [],
   "source": [
    "###Calculate Expected Score for a Single Round for Each Player\n",
    "SingleRoundExpectedScores = EventPlayers[['PDGANumber','EventID','Division','Rating']]\n",
    "SingleRoundExpectedScores = pd.merge(SingleRoundExpectedScores,EventMeanRegression, on = ['EventID'],how = 'left')\n",
    "SingleRoundExpectedScores = pd.merge(SingleRoundExpectedScores,EventAverageRating, on = ['EventID','Division'],how = 'left')\n",
    "SingleRoundExpectedScores['SingleRoundExpectedScoreValue'] = -1*((SingleRoundExpectedScores['Rating']-SingleRoundExpectedScores['EventDivisionAverageRatingValue'])/(RatingPointsPerStroke+SingleRoundExpectedScores['EventMeanRegressionValue']))\n",
    "SingleRoundExpectedScores = SingleRoundExpectedScores[['PDGANumber','EventID','Division','SingleRoundExpectedScoreValue']].sort_values(by=['EventID','Division','SingleRoundExpectedScoreValue'])\n",
    "###SingleRoundExpectedScores"
   ]
  },
  {
   "cell_type": "code",
   "execution_count": 5,
   "metadata": {},
   "outputs": [],
   "source": [
    "RoundRandomScores = pd.concat([SingleRoundExpectedScores for i in range(NumberOfModelRuns)], ignore_index=True)\n",
    "RoundRandomScores['ModelRunNumber'] = RoundRandomScores.groupby(['EventID','PDGANumber','Division'])['PDGANumber'].rank(method='first').astype(int)\n",
    "RoundRandomScores = pd.merge(RoundRandomScores,Events[['EventID','EventLength']], on = ['EventID'],how = 'left')\n",
    "RoundRandomScores = RoundRandomScores.iloc[np.arange(len(RoundRandomScores)).repeat(RoundRandomScores['EventLength'])]\n",
    "RoundRandomScores['RoundNumber']= RoundRandomScores.groupby(['EventID','PDGANumber','ModelRunNumber','Division'])['PDGANumber'].rank(method='first').astype(int)\n",
    "RoundRandomScores['RoundStandardDeviation']= RoundStandardDeviation\n",
    "RoundRandomScores['RoundRandomScoreValue'] = np.random.normal(\n",
    "        RoundRandomScores['SingleRoundExpectedScoreValue'].values,\n",
    "        RoundRandomScores['RoundStandardDeviation'].values).round(0).astype(int)\n",
    "RoundRandomScores = RoundRandomScores[['PDGANumber','EventID','Division','ModelRunNumber','RoundRandomScoreValue']].sort_values(by=['EventID','Division','ModelRunNumber','RoundRandomScoreValue'])\n",
    "###RoundRandomScores\n",
    "###Paul McBeth is always expected to score under par so i'm doing something right\n",
    "###RoundRandomScores.query('PDGANumber == \"27523\"').hist(column='RoundRandomScoreValue', by='EventID')"
   ]
  },
  {
   "cell_type": "code",
   "execution_count": 6,
   "metadata": {},
   "outputs": [],
   "source": [
    "EventRandomScores = RoundRandomScores.groupby(['EventID','PDGANumber','ModelRunNumber','Division'],as_index=False).sum('RoundRandomScoreValue')\n",
    "EventRandomScores = EventRandomScores.rename(columns={\"RoundRandomScoreValue\":\"EventRandomScoreValue\"}).sort_values(by=['EventID','Division','ModelRunNumber','EventRandomScoreValue'])\n",
    "###EventRandomScores\n",
    "###Check on Paul McBeth\n",
    "###EventRandomScores.query('PDGANumber == \"27523\"').hist(column='EventRandomScoreValue', by='EventID')\n",
    "###EventRandomScores.query('EventID == \"52009\" & ModelRunNumber == \"1\" & Division == \"MPO\"').sort_values(by=['EventRandomScoreValue'])"
   ]
  },
  {
   "cell_type": "code",
   "execution_count": 7,
   "metadata": {},
   "outputs": [],
   "source": [
    "EventRunRanks = EventRandomScores\n",
    "EventRunRanks['EventRankBeforePlayoff'] = EventRunRanks.groupby(['EventID','ModelRunNumber','Division'])['EventRandomScoreValue'].rank(method='min').astype(int)\n",
    "EventRunRanks = EventRunRanks[['EventID','PDGANumber','ModelRunNumber','EventRankBeforePlayoff','Division']].sort_values(by=['EventID','Division','ModelRunNumber','EventRankBeforePlayoff'])\n",
    "###EventRunRanks.query('EventID == \"52009\" & ModelRunNumber == \"1\" & Division == \"MPO\"').sort_values(by=['EventRankBeforePlayoff'])"
   ]
  },
  {
   "cell_type": "code",
   "execution_count": 8,
   "metadata": {},
   "outputs": [],
   "source": [
    "###Ridiculous amount of code to break ties in playoffs. Two things it should do that it doesn't : account for strength of player, account for the low % chance that a playoff can't occur\n",
    "FirstPlaceTies = EventRunRanks\n",
    "NumberOfTiesBeforePlayoff = FirstPlaceTies.groupby(['EventRankBeforePlayoff','EventID','ModelRunNumber','Division'],as_index=False)['EventRankBeforePlayoff'].size()\n",
    "FirstPlaceTies = pd.merge(EventRunRanks,NumberOfTiesBeforePlayoff, on = ['EventID','EventRankBeforePlayoff','ModelRunNumber','Division'],how = 'right')\n",
    "FirstPlaceTies = FirstPlaceTies.rename(columns={\"size\":\"NumberOfFirstPlaceTies\"})\n",
    "FirstPlaceTies = FirstPlaceTies[FirstPlaceTies['NumberOfFirstPlaceTies']>1]\n",
    "FirstPlaceTies = FirstPlaceTies[FirstPlaceTies['EventRankBeforePlayoff']==1]\n",
    "FirstPlaceTies['PlayoffWinnerDetermination'] = np.random.rand(len(FirstPlaceTies.index))\n",
    "FirstPlaceTies['EventRankAfterPlayoffBeforeSecondPlaceTies']= FirstPlaceTies.groupby(['EventID','ModelRunNumber','Division'])['PlayoffWinnerDetermination'].rank(method='first').astype(int)\n",
    "FirstPlaceTies['EventRankAfterPlayoff']= FirstPlaceTies['EventRankAfterPlayoffBeforeSecondPlaceTies'].astype(int)\n",
    "FirstPlaceTies['EventRankAfterPlayoff'] = np.where((FirstPlaceTies.EventRankAfterPlayoffBeforeSecondPlaceTies >= 2),2,FirstPlaceTies.EventRankAfterPlayoff).astype(int)\n",
    "FirstPlaceTies = FirstPlaceTies[['EventID','PDGANumber','ModelRunNumber','EventRankAfterPlayoff','Division']].sort_values(by=['EventID','ModelRunNumber','Division','EventRankAfterPlayoff'])\n",
    "###FirstPlaceTies.query('EventID == \"52009\" & ModelRunNumber == \"1\" & Division == \"MPO\"').sort_values(by=['EventRankAfterPlayoff'])\n",
    "###FirstPlaceTies.hist(column='RankAfterPlayoff')"
   ]
  },
  {
   "cell_type": "code",
   "execution_count": 9,
   "metadata": {},
   "outputs": [],
   "source": [
    "EventRunRanks = pd.merge(EventRunRanks,FirstPlaceTies, on = ['EventID','PDGANumber','ModelRunNumber','Division'],how = 'left')\n",
    "EventRunRanks.EventRankAfterPlayoff.fillna(EventRunRanks.EventRankBeforePlayoff, inplace = True)\n",
    "EventRunRanks['EventRankAfterPlayoff'] = EventRunRanks.EventRankAfterPlayoff.astype(int)\n",
    "###EventRunRanks['EventRankForPoints']\n",
    "EventRunRanks = EventRunRanks[['EventID','PDGANumber','ModelRunNumber','Division','EventRankAfterPlayoff']]\n",
    "###EventRunRanks.query('EventID == \"52009\" & ModelRunNumber == \"1\" & Division == \"MPO\"').sort_values(by=['EventRankAfterPlayoff'])"
   ]
  },
  {
   "cell_type": "code",
   "execution_count": 10,
   "metadata": {},
   "outputs": [],
   "source": [
    "### Calcluate Points for Each Run\n",
    "RankProjectedAndActual = pd.merge(EventRunRanks,Events[['EventID','Division']], on = ['EventID','Division'],how = 'left')\n",
    "###Final Ranks are completed tournaments\n",
    "RankProjectedAndActual = pd.merge(RankProjectedAndActual,EventPlayers[['EventID','Division','PDGANumber','FinalRank']], on = ['EventID','Division','PDGANumber'],how = 'left')\n",
    "RankProjectedAndActual.FinalRank = np.where(RankProjectedAndActual.FinalRank.isnull(),RankProjectedAndActual.EventRankAfterPlayoff,RankProjectedAndActual.FinalRank).astype(int)\n",
    "RankProjectedAndActual['LookupRankForPoints'] = RankProjectedAndActual.groupby(['EventID','ModelRunNumber','Division'])['FinalRank'].rank(method='first').astype(int)\n",
    "RankProjectedAndActual = RankProjectedAndActual[['EventID','PDGANumber','ModelRunNumber','Division','FinalRank','LookupRankForPoints']].sort_values(by=['EventID','ModelRunNumber','Division','LookupRankForPoints'])\n",
    "###RankProjectedAndActual.query('EventID == \"52009\" & ModelRunNumber == \"1\" & Division == \"MPO\"').sort_values(by=['LookupRankForPoints'])"
   ]
  },
  {
   "cell_type": "code",
   "execution_count": 11,
   "metadata": {},
   "outputs": [],
   "source": [
    "###merge the number of ties back into the thing\n",
    "###find the number of ties\n",
    "NumberOfTies = RankProjectedAndActual.groupby(['FinalRank','EventID','ModelRunNumber','Division'],as_index=False)['FinalRank'].size()\n",
    "NumberOfTies.rename(columns = {'size':'NumberOfTies'}, inplace = True)\n",
    "###NumberOfTies"
   ]
  },
  {
   "cell_type": "code",
   "execution_count": 12,
   "metadata": {},
   "outputs": [],
   "source": [
    "RankProjectedAndActual = pd.merge(RankProjectedAndActual,NumberOfTies, on = ['EventID','FinalRank','ModelRunNumber','Division'],how = 'left')\n",
    "###RankProjectedAndActual"
   ]
  },
  {
   "cell_type": "code",
   "execution_count": 13,
   "metadata": {},
   "outputs": [],
   "source": [
    "###Need to merge in the points before i sum, that's the whole point of the exercise\n",
    "PointsLookup = RankProjectedAndActual[['EventID','PDGANumber','ModelRunNumber','Division','FinalRank','LookupRankForPoints','NumberOfTies']].sort_values(by=['EventID','Division','ModelRunNumber','FinalRank'])\n",
    "PointsLookup = pd.merge(PointsLookup,Events[['Division','EventID','EventType','EventTour']],on = ['Division','EventID'], how = 'left')\n",
    "PointsLookup = pd.merge(PointsLookup,PointsLogic, on = ['EventTour','LookupRankForPoints'], how = 'left')\n",
    "###PointsLookup"
   ]
  },
  {
   "cell_type": "code",
   "execution_count": 14,
   "metadata": {},
   "outputs": [],
   "source": [
    "TieDivision = PointsLookup.groupby(['FinalRank','EventID','ModelRunNumber','NumberOfTies','Division','EventType','EventTour'],as_index=False).sum()\n",
    "TieDivision['PointsDividedBetweenTies'] = TieDivision['Points']/TieDivision['NumberOfTies']\n",
    "TieDivision['PointsDividedBetweenTies'] = np.where(TieDivision['EventType'] == 'Silver', TieDivision['PointsDividedBetweenTies']/4,TieDivision['PointsDividedBetweenTies'])\n",
    "TieDivision = TieDivision.sort_values(by=['EventID','Division','ModelRunNumber','PointsDividedBetweenTies'])\n",
    "TieDivision= TieDivision[['EventID','EventTour','EventType','FinalRank','ModelRunNumber','Division','PointsDividedBetweenTies']]\n",
    "###TieDivision"
   ]
  },
  {
   "cell_type": "code",
   "execution_count": 15,
   "metadata": {},
   "outputs": [],
   "source": [
    "PointsProjectedAndActual = pd.merge(RankProjectedAndActual,TieDivision,on = ['Division','EventID','FinalRank','ModelRunNumber'], how = 'left')\n",
    "PointsProjectedAndActual = PointsProjectedAndActual[['EventID','PDGANumber','ModelRunNumber','Division','EventTour','EventType','FinalRank','PointsDividedBetweenTies']]\n",
    "###PointsProjectedAndActual"
   ]
  },
  {
   "cell_type": "code",
   "execution_count": 16,
   "metadata": {},
   "outputs": [],
   "source": [
    "TourEventRankings = PointsProjectedAndActual\n",
    "TourEventRankings['EliteSeriesRank'] = TourEventRankings[TourEventRankings.EventType == 'Elite'].groupby(['PDGANumber','ModelRunNumber'])['PointsDividedBetweenTies'].rank(method='first',ascending = False)\n",
    "TourEventRankings['EliteSeriesRank'] = TourEventRankings['EliteSeriesRank'].fillna(100)\n",
    "TourEventRankings['EliteSeriesRank'] = TourEventRankings.EliteSeriesRank.astype(int)\n",
    "\n",
    "TourEventRankings['SilverSeriesRank'] = TourEventRankings[TourEventRankings.EventType == 'Silver'].groupby(['PDGANumber','ModelRunNumber'])['PointsDividedBetweenTies'].rank(method='first',ascending = False)\n",
    "TourEventRankings['SilverSeriesRank'] = TourEventRankings['SilverSeriesRank'].fillna(100)\n",
    "TourEventRankings['SilverSeriesRank'] = TourEventRankings.SilverSeriesRank.astype(int)\n",
    "\n",
    "###Careful with NT - the Music City Open must count therefore it's EventType = Last. Otherwise top 4 of 5 count\n",
    "TourEventRankings['NTRank'] = TourEventRankings[TourEventRankings.EventType == 'NT'].groupby(['PDGANumber','ModelRunNumber'])['PointsDividedBetweenTies'].rank(method='first',ascending = False)\n",
    "TourEventRankings['NTRank'] = TourEventRankings['NTRank'].fillna(100)\n",
    "TourEventRankings['NTRank'] = TourEventRankings.NTRank.astype(int)\n",
    "\n",
    "TourEventRankings['PDPTRank'] = TourEventRankings[TourEventRankings.EventType == 'PDPT'].groupby(['PDGANumber','ModelRunNumber'])['PointsDividedBetweenTies'].rank(method='first',ascending = False)\n",
    "TourEventRankings['PDPTRank'] = TourEventRankings['PDPTRank'].fillna(100)\n",
    "TourEventRankings['PDPTRank'] = TourEventRankings.PDPTRank.astype(int)\n",
    "\n",
    "\n",
    "TourEventRankings['KeepScore'] = np.where((TourEventRankings['EliteSeriesRank']<=8)|(TourEventRankings['SilverSeriesRank']<=3)|(TourEventRankings['NTRank']<=4)|(TourEventRankings['PDPTRank']<=4),'Yes','No')\n",
    "###TourEventRankings = TourEventRankings[['EventID','PDGANumber','ModelRunNumber','Division','EventTour','FinalRank','PointsDividedBetweenTies','KeepScore']]\n",
    "###TourEventRankings.query('PDGANumber == \"66842\" & ModelRunNumber == \"1\" & EventTour == \"DGPT\"')\n",
    "###TourEventRankings.dtypes"
   ]
  },
  {
   "cell_type": "code",
   "execution_count": 17,
   "metadata": {},
   "outputs": [],
   "source": [
    "ModelRunScore = TourEventRankings[['PDGANumber','ModelRunNumber','Division','EventTour','PointsDividedBetweenTies','KeepScore']]\n",
    "ModelRunScore = ModelRunScore[ModelRunScore.KeepScore =='Yes'].groupby(['PDGANumber','ModelRunNumber','Division','EventTour'],as_index=False).sum()\n",
    "ModelRunScore = ModelRunScore.rename(columns={\"PointsDividedBetweenTies\":\"TotalTourDivisionPoints\"}).sort_values(by=['ModelRunNumber','Division','EventTour','TotalTourDivisionPoints'])\n",
    "\n",
    "###ModelRunScore.query('PDGANumber == \"17295\"')"
   ]
  },
  {
   "cell_type": "code",
   "execution_count": 18,
   "metadata": {},
   "outputs": [],
   "source": [
    "ModelRunStandings = ModelRunScore\n",
    "ModelRunStandings['FinalStandings'] = ModelRunStandings.groupby(['ModelRunNumber','Division','EventTour'])['TotalTourDivisionPoints'].rank(ascending=False,method='min').astype(int)\n",
    "\n",
    "###Create Subset of just unique players to finally add name back in\n",
    "EventPlayersUnique = EventPlayers.drop_duplicates(subset=['PDGANumber','Name'])\n",
    "EventPlayersUnique = EventPlayersUnique[['PDGANumber','Name']]\n",
    "\n",
    "ModelRunStandings = pd.merge(ModelRunStandings,EventPlayersUnique, on = ['PDGANumber'], how = 'left')\n",
    "ModelRunStandings = ModelRunStandings[['Name','PDGANumber','ModelRunNumber','Division','EventTour','FinalStandings']]\n",
    "###ModelRunStandings"
   ]
  },
  {
   "cell_type": "code",
   "execution_count": 19,
   "metadata": {},
   "outputs": [],
   "source": [
    "Visual = ModelRunStandings[['PDGANumber','Division','EventTour','FinalStandings']]\n",
    "\n",
    "AverageFinish = Visual.groupby(['PDGANumber','Division','EventTour'])['FinalStandings'].mean().reset_index().rename(columns={\"FinalStandings\":\"AverageFinish\"})\n",
    "\n",
    "TopEight = Visual[Visual.FinalStandings <= 8]\n",
    "TopEight = TopEight[['PDGANumber','Division','EventTour']].value_counts().to_frame(name=\"TopEight\")\n",
    "\n",
    "TopSixteen =  Visual[Visual.FinalStandings <= 16]\n",
    "TopSixteen = TopSixteen[['PDGANumber','Division','EventTour']].value_counts().to_frame(name=\"TopSixteen\")\n",
    "\n",
    "TopThirtyTwo =  Visual[Visual.FinalStandings <= 32]\n",
    "TopThirtyTwo = TopThirtyTwo[['PDGANumber','Division','EventTour']].value_counts().to_frame(name=\"TopThirtyTwo\")"
   ]
  },
  {
   "cell_type": "code",
   "execution_count": 20,
   "metadata": {},
   "outputs": [],
   "source": [
    "EventPlayerTour = pd.merge(EventPlayers,Events, on = ['Division','EventID'],how = 'left')\n",
    "EventPlayerTour = EventPlayerTour[['Name','EventID','PDGANumber','FinalRank','Division','EventType','EventTour','EventDate']]\n",
    "\n",
    "SilverSeriesStops = EventPlayerTour[EventPlayerTour.EventType == \"Silver\"].groupby(['PDGANumber','Division','EventType','EventTour']).size().to_frame(name=\"SilverSeriesStops\")\n",
    "EliteSeriesStops = EventPlayerTour[EventPlayerTour.EventType == \"Elite\"].groupby(['PDGANumber','Division','EventType','EventTour']).size().to_frame(name=\"EliteSeriesStops\")\n",
    "PDPTStops = EventPlayerTour[EventPlayerTour.EventType == \"PDPT\"].groupby(['PDGANumber','Division','EventType','EventTour']).size().to_frame(name=\"PDPTStops\")\n",
    "NTStopsBeforeMCO = EventPlayerTour[EventPlayerTour.EventType == \"NT\"].groupby(['PDGANumber','Division','EventType','EventTour']).size().to_frame(name=\"NTStopsBeforeMCO\")\n",
    "###MinimumPoints\n",
    "###MaximumPoints\n",
    "###NextDroppedScoreEliteNTPDPT\n",
    "###NextDroppedScoreSilver\n",
    "\n",
    "UniqueEventPlayerDivisionTour = EventPlayerTour[['Name','PDGANumber','Division','EventTour']].drop_duplicates()\n",
    "\n",
    "UniqueEventPlayerDivisionTour = pd.merge(UniqueEventPlayerDivisionTour,TopEight,on = ['PDGANumber','Division','EventTour'],how = 'left')\n",
    "UniqueEventPlayerDivisionTour = pd.merge(UniqueEventPlayerDivisionTour,TopSixteen,on = ['PDGANumber','Division','EventTour'],how = 'left')\n",
    "UniqueEventPlayerDivisionTour = pd.merge(UniqueEventPlayerDivisionTour,TopThirtyTwo,on = ['PDGANumber','Division','EventTour'],how = 'left')\n",
    "UniqueEventPlayerDivisionTour = pd.merge(UniqueEventPlayerDivisionTour,AverageFinish,on = ['PDGANumber','Division','EventTour'],how = 'left')\n",
    "UniqueEventPlayerDivisionTour = pd.merge(UniqueEventPlayerDivisionTour,SilverSeriesStops,on = ['PDGANumber','Division','EventTour'],how = 'left')\n",
    "UniqueEventPlayerDivisionTour = pd.merge(UniqueEventPlayerDivisionTour,EliteSeriesStops,on = ['PDGANumber','Division','EventTour'],how = 'left')\n",
    "UniqueEventPlayerDivisionTour = pd.merge(UniqueEventPlayerDivisionTour,PDPTStops,on = ['PDGANumber','Division','EventTour'],how = 'left')\n",
    "UniqueEventPlayerDivisionTour = pd.merge(UniqueEventPlayerDivisionTour,NTStopsBeforeMCO,on = ['PDGANumber','Division','EventTour'],how = 'left')\n",
    "\n",
    "UniqueEventPlayerDivisionTour = UniqueEventPlayerDivisionTour.apply(lambda x: x.fillna(0) if x.dtype.kind in 'biufc' else x.fillna('.'))\n",
    "\n",
    "UniqueEventPlayerDivisionTour = UniqueEventPlayerDivisionTour.astype({'TopEight': 'int','TopSixteen': 'int','TopThirtyTwo': 'int','SilverSeriesStops': 'int','EliteSeriesStops': 'int','PDPTStops': 'int','NTStopsBeforeMCO': 'int'})\n",
    "UniqueEventPlayerDivisionTour.to_csv('FinalResultsAfterIdlewildNoPaul08112021.csv')"
   ]
  },
  {
   "cell_type": "code",
   "execution_count": 21,
   "metadata": {},
   "outputs": [],
   "source": [
    "###FinalDGPTMPOResultsAggregated = ModelRunStandings[ModelRunStandings.EventTour == 'DGPT']\n",
    "###FinalDGPTMPOResultsAggregated = FinalDGPTMPOResultsAggregated[FinalDGPTMPOResultsAggregated.Division == 'MPO']\n",
    "###FinalDGPTMPOResultsAggregated = FinalDGPTMPOResultsAggregated[['Name','PDGANumber','ModelRunNumber','FinalStandings']].sort_values(by=['FinalStandings','ModelRunNumber'])\n",
    "###FinalDGPTMPOResultsAggregated.query('PDGANumber == \"17295\"')\n",
    "###FinalDGPTMPOResultsAggregated = pd.pivot_table(FinalDGPTMPOResultsAggregated,index=['PDGANumber','Name'],columns=['FinalStandings'],aggfunc='count',fill_value =0)\n",
    "###FinalDGPTFPOResultsAggregated = pd.pivot_table(ModelRunStandings,index=['PDGANumber'],columns=['FinalStandings'],aggfunc='count',fill_value =0)\n",
    "###FinalNTMPOResultsAggregated = pd.pivot_table(ModelRunStandings,index=['PDGANumber'],columns=['FinalStandings'],aggfunc='count',fill_value =0)\n",
    "###FinalNTFPOResultsAggregated = pd.pivot_table(ModelRunStandings,index=['PDGANumber'],columns=['FinalStandings'],aggfunc='count',fill_value =0)\n",
    "###FinalPDPTMPOResultsAggregated = pd.pivot_table(ModelRunStandings,index=['PDGANumber'],columns=['FinalStandings'],aggfunc='count',fill_value =0)\n",
    "###FinalPDPTFPOResultsAggregated = pd.pivot_table(ModelRunStandings,index=['PDGANumber'],columns=['FinalStandings'],aggfunc='count',fill_value =0)\n",
    "###FinalPDPTMP40ResultsAggregated = pd.pivot_table(ModelRunStandings,index=['PDGANumber'],columns=['FinalStandings'],aggfunc='count',fill_value =0)\n",
    "###FinalPDPTFP40ResultsAggregated = pd.pivot_table(ModelRunStandings,index=['PDGANumber'],columns=['FinalStandings'],aggfunc='count',fill_value =0)\n",
    "###FinalPDPTMP50ResultsAggregated = pd.pivot_table(ModelRunStandings,index=['PDGANumber'],columns=['FinalStandings'],aggfunc='count',fill_value =0)\n",
    "###FinalPDPTMP60ResultsAggregated = pd.pivot_table(ModelRunStandings,index=['PDGANumber'],columns=['FinalStandings'],aggfunc='count',fill_value =0)\n",
    "\n",
    "###FinalDGPTMPOResultsAggregated.to_csv('FinalDGPTMPOResultsAggregates08092021.csv')\n",
    "###FinalDGPTMPOResultsAggregated\n",
    "\n",
    "###FinalDGPTFPOResultsAggregated = ModelRunStandings[ModelRunStandings.EventTour == 'DGPT']\n",
    "###FinalDGPTFPOResultsAggregated = FinalDGPTFPOResultsAggregated[FinalDGPTFPOResultsAggregated.Division == 'FPO']\n",
    "###FinalDGPTFPOResultsAggregated = FinalDGPTFPOResultsAggregated[['Name','PDGANumber','ModelRunNumber','FinalStandings']].sort_values(by=['FinalStandings','ModelRunNumber'])\n",
    "###FinalDGPTFPOResultsAggregated = pd.pivot_table(FinalDGPTFPOResultsAggregated,index=['PDGANumber','Name'],columns=['FinalStandings'],aggfunc='count',fill_value =0)\n",
    "\n",
    "###FinalDGPTFPOResultsAggregated.to_csv('FinalDGPTFPOResultsAggregates08092021.csv')\n",
    "###FinalDGPTFPOResultsAggregated"
   ]
  }
 ],
 "metadata": {
  "kernelspec": {
   "display_name": "Python 3",
   "language": "python",
   "name": "python3"
  },
  "language_info": {
   "codemirror_mode": {
    "name": "ipython",
    "version": 3
   },
   "file_extension": ".py",
   "mimetype": "text/x-python",
   "name": "python",
   "nbconvert_exporter": "python",
   "pygments_lexer": "ipython3",
   "version": "3.8.5"
  }
 },
 "nbformat": 4,
 "nbformat_minor": 4
}
